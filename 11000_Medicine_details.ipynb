{
 "cells": [
  {
   "cell_type": "code",
   "execution_count": 1,
   "metadata": {},
   "outputs": [],
   "source": [
    "import numpy as np\n",
    "import pandas as pd"
   ]
  },
  {
   "cell_type": "code",
   "execution_count": 2,
   "metadata": {},
   "outputs": [],
   "source": [
    "df = pd.read_csv('Medicine_Details.csv')"
   ]
  },
  {
   "cell_type": "code",
   "execution_count": 3,
   "metadata": {},
   "outputs": [
    {
     "data": {
      "text/html": [
       "<div>\n",
       "<style scoped>\n",
       "    .dataframe tbody tr th:only-of-type {\n",
       "        vertical-align: middle;\n",
       "    }\n",
       "\n",
       "    .dataframe tbody tr th {\n",
       "        vertical-align: top;\n",
       "    }\n",
       "\n",
       "    .dataframe thead th {\n",
       "        text-align: right;\n",
       "    }\n",
       "</style>\n",
       "<table border=\"1\" class=\"dataframe\">\n",
       "  <thead>\n",
       "    <tr style=\"text-align: right;\">\n",
       "      <th></th>\n",
       "      <th>Medicine Name</th>\n",
       "      <th>Composition</th>\n",
       "      <th>Uses</th>\n",
       "      <th>Side_effects</th>\n",
       "      <th>Image URL</th>\n",
       "      <th>Manufacturer</th>\n",
       "      <th>Excellent Review %</th>\n",
       "      <th>Average Review %</th>\n",
       "      <th>Poor Review %</th>\n",
       "    </tr>\n",
       "  </thead>\n",
       "  <tbody>\n",
       "    <tr>\n",
       "      <th>0</th>\n",
       "      <td>Avastin 400mg Injection</td>\n",
       "      <td>Bevacizumab (400mg)</td>\n",
       "      <td>Cancer of colon and rectum Non-small cell lun...</td>\n",
       "      <td>Rectal bleeding Taste change Headache Noseblee...</td>\n",
       "      <td>https://onemg.gumlet.io/l_watermark_346,w_480,...</td>\n",
       "      <td>Roche Products India Pvt Ltd</td>\n",
       "      <td>22</td>\n",
       "      <td>56</td>\n",
       "      <td>22</td>\n",
       "    </tr>\n",
       "    <tr>\n",
       "      <th>1</th>\n",
       "      <td>Augmentin 625 Duo Tablet</td>\n",
       "      <td>Amoxycillin  (500mg) +  Clavulanic Acid (125mg)</td>\n",
       "      <td>Treatment of Bacterial infections</td>\n",
       "      <td>Vomiting Nausea Diarrhea Mucocutaneous candidi...</td>\n",
       "      <td>https://onemg.gumlet.io/l_watermark_346,w_480,...</td>\n",
       "      <td>Glaxo SmithKline Pharmaceuticals Ltd</td>\n",
       "      <td>47</td>\n",
       "      <td>35</td>\n",
       "      <td>18</td>\n",
       "    </tr>\n",
       "    <tr>\n",
       "      <th>2</th>\n",
       "      <td>Azithral 500 Tablet</td>\n",
       "      <td>Azithromycin (500mg)</td>\n",
       "      <td>Treatment of Bacterial infections</td>\n",
       "      <td>Nausea Abdominal pain Diarrhea</td>\n",
       "      <td>https://onemg.gumlet.io/l_watermark_346,w_480,...</td>\n",
       "      <td>Alembic Pharmaceuticals Ltd</td>\n",
       "      <td>39</td>\n",
       "      <td>40</td>\n",
       "      <td>21</td>\n",
       "    </tr>\n",
       "    <tr>\n",
       "      <th>3</th>\n",
       "      <td>Ascoril LS Syrup</td>\n",
       "      <td>Ambroxol (30mg/5ml) + Levosalbutamol (1mg/5ml)...</td>\n",
       "      <td>Treatment of Cough with mucus</td>\n",
       "      <td>Nausea Vomiting Diarrhea Upset stomach Stomach...</td>\n",
       "      <td>https://onemg.gumlet.io/l_watermark_346,w_480,...</td>\n",
       "      <td>Glenmark Pharmaceuticals Ltd</td>\n",
       "      <td>24</td>\n",
       "      <td>41</td>\n",
       "      <td>35</td>\n",
       "    </tr>\n",
       "    <tr>\n",
       "      <th>4</th>\n",
       "      <td>Aciloc 150 Tablet</td>\n",
       "      <td>Ranitidine (150mg)</td>\n",
       "      <td>Treatment of Gastroesophageal reflux disease (...</td>\n",
       "      <td>Headache Diarrhea Gastrointestinal disturbance</td>\n",
       "      <td>https://onemg.gumlet.io/l_watermark_346,w_480,...</td>\n",
       "      <td>Cadila Pharmaceuticals Ltd</td>\n",
       "      <td>34</td>\n",
       "      <td>37</td>\n",
       "      <td>29</td>\n",
       "    </tr>\n",
       "    <tr>\n",
       "      <th>5</th>\n",
       "      <td>Allegra 120mg Tablet</td>\n",
       "      <td>Fexofenadine (120mg)</td>\n",
       "      <td>Treatment of Sneezing and runny nose due to al...</td>\n",
       "      <td>Headache Drowsiness Dizziness Nausea</td>\n",
       "      <td>https://onemg.gumlet.io/l_watermark_346,w_480,...</td>\n",
       "      <td>Sanofi India Ltd</td>\n",
       "      <td>35</td>\n",
       "      <td>42</td>\n",
       "      <td>23</td>\n",
       "    </tr>\n",
       "    <tr>\n",
       "      <th>6</th>\n",
       "      <td>Avil 25 Tablet</td>\n",
       "      <td>Pheniramine (25mg)</td>\n",
       "      <td>Treatment of Allergic conditionsTreatment of R...</td>\n",
       "      <td>Sedation</td>\n",
       "      <td>https://onemg.gumlet.io/l_watermark_346,w_480,...</td>\n",
       "      <td>Sanofi India Ltd</td>\n",
       "      <td>40</td>\n",
       "      <td>34</td>\n",
       "      <td>26</td>\n",
       "    </tr>\n",
       "    <tr>\n",
       "      <th>7</th>\n",
       "      <td>Aricep 5 Tablet</td>\n",
       "      <td>Donepezil (5mg)</td>\n",
       "      <td>Alzheimer's disease</td>\n",
       "      <td>Common cold Urinary incontinence Rash Nausea D...</td>\n",
       "      <td>https://onemg.gumlet.io/l_watermark_346,w_480,...</td>\n",
       "      <td>Eisai Pharmaceuticals India Pvt Ltd</td>\n",
       "      <td>43</td>\n",
       "      <td>28</td>\n",
       "      <td>29</td>\n",
       "    </tr>\n",
       "    <tr>\n",
       "      <th>8</th>\n",
       "      <td>Amoxyclav 625 Tablet</td>\n",
       "      <td>Amoxycillin  (500mg) +  Clavulanic Acid (125mg)</td>\n",
       "      <td>Treatment of Bacterial infections</td>\n",
       "      <td>Vomiting Nausea Diarrhea Mucocutaneous candidi...</td>\n",
       "      <td>https://onemg.gumlet.io/l_watermark_346,w_480,...</td>\n",
       "      <td>Abbott</td>\n",
       "      <td>36</td>\n",
       "      <td>43</td>\n",
       "      <td>21</td>\n",
       "    </tr>\n",
       "    <tr>\n",
       "      <th>9</th>\n",
       "      <td>Atarax 25mg Tablet</td>\n",
       "      <td>Hydroxyzine (25mg)</td>\n",
       "      <td>Treatment of AnxietyTreatment of Skin conditio...</td>\n",
       "      <td>Sedation Nausea Vomiting Upset stomach Constip...</td>\n",
       "      <td>https://onemg.gumlet.io/l_watermark_346,w_480,...</td>\n",
       "      <td>Dr Reddy's Laboratories Ltd</td>\n",
       "      <td>35</td>\n",
       "      <td>41</td>\n",
       "      <td>24</td>\n",
       "    </tr>\n",
       "  </tbody>\n",
       "</table>\n",
       "</div>"
      ],
      "text/plain": [
       "              Medicine Name  \\\n",
       "0   Avastin 400mg Injection   \n",
       "1  Augmentin 625 Duo Tablet   \n",
       "2       Azithral 500 Tablet   \n",
       "3          Ascoril LS Syrup   \n",
       "4         Aciloc 150 Tablet   \n",
       "5      Allegra 120mg Tablet   \n",
       "6            Avil 25 Tablet   \n",
       "7           Aricep 5 Tablet   \n",
       "8      Amoxyclav 625 Tablet   \n",
       "9        Atarax 25mg Tablet   \n",
       "\n",
       "                                         Composition  \\\n",
       "0                                Bevacizumab (400mg)   \n",
       "1    Amoxycillin  (500mg) +  Clavulanic Acid (125mg)   \n",
       "2                               Azithromycin (500mg)   \n",
       "3  Ambroxol (30mg/5ml) + Levosalbutamol (1mg/5ml)...   \n",
       "4                                 Ranitidine (150mg)   \n",
       "5                               Fexofenadine (120mg)   \n",
       "6                                 Pheniramine (25mg)   \n",
       "7                                    Donepezil (5mg)   \n",
       "8    Amoxycillin  (500mg) +  Clavulanic Acid (125mg)   \n",
       "9                                 Hydroxyzine (25mg)   \n",
       "\n",
       "                                                Uses  \\\n",
       "0   Cancer of colon and rectum Non-small cell lun...   \n",
       "1                  Treatment of Bacterial infections   \n",
       "2                  Treatment of Bacterial infections   \n",
       "3                      Treatment of Cough with mucus   \n",
       "4  Treatment of Gastroesophageal reflux disease (...   \n",
       "5  Treatment of Sneezing and runny nose due to al...   \n",
       "6  Treatment of Allergic conditionsTreatment of R...   \n",
       "7                                Alzheimer's disease   \n",
       "8                  Treatment of Bacterial infections   \n",
       "9  Treatment of AnxietyTreatment of Skin conditio...   \n",
       "\n",
       "                                        Side_effects  \\\n",
       "0  Rectal bleeding Taste change Headache Noseblee...   \n",
       "1  Vomiting Nausea Diarrhea Mucocutaneous candidi...   \n",
       "2                     Nausea Abdominal pain Diarrhea   \n",
       "3  Nausea Vomiting Diarrhea Upset stomach Stomach...   \n",
       "4     Headache Diarrhea Gastrointestinal disturbance   \n",
       "5               Headache Drowsiness Dizziness Nausea   \n",
       "6                                           Sedation   \n",
       "7  Common cold Urinary incontinence Rash Nausea D...   \n",
       "8  Vomiting Nausea Diarrhea Mucocutaneous candidi...   \n",
       "9  Sedation Nausea Vomiting Upset stomach Constip...   \n",
       "\n",
       "                                           Image URL  \\\n",
       "0  https://onemg.gumlet.io/l_watermark_346,w_480,...   \n",
       "1  https://onemg.gumlet.io/l_watermark_346,w_480,...   \n",
       "2  https://onemg.gumlet.io/l_watermark_346,w_480,...   \n",
       "3  https://onemg.gumlet.io/l_watermark_346,w_480,...   \n",
       "4  https://onemg.gumlet.io/l_watermark_346,w_480,...   \n",
       "5  https://onemg.gumlet.io/l_watermark_346,w_480,...   \n",
       "6  https://onemg.gumlet.io/l_watermark_346,w_480,...   \n",
       "7  https://onemg.gumlet.io/l_watermark_346,w_480,...   \n",
       "8  https://onemg.gumlet.io/l_watermark_346,w_480,...   \n",
       "9  https://onemg.gumlet.io/l_watermark_346,w_480,...   \n",
       "\n",
       "                           Manufacturer  Excellent Review %  Average Review %  \\\n",
       "0          Roche Products India Pvt Ltd                  22                56   \n",
       "1  Glaxo SmithKline Pharmaceuticals Ltd                  47                35   \n",
       "2           Alembic Pharmaceuticals Ltd                  39                40   \n",
       "3          Glenmark Pharmaceuticals Ltd                  24                41   \n",
       "4            Cadila Pharmaceuticals Ltd                  34                37   \n",
       "5                      Sanofi India Ltd                  35                42   \n",
       "6                      Sanofi India Ltd                  40                34   \n",
       "7   Eisai Pharmaceuticals India Pvt Ltd                  43                28   \n",
       "8                                Abbott                  36                43   \n",
       "9           Dr Reddy's Laboratories Ltd                  35                41   \n",
       "\n",
       "   Poor Review %  \n",
       "0             22  \n",
       "1             18  \n",
       "2             21  \n",
       "3             35  \n",
       "4             29  \n",
       "5             23  \n",
       "6             26  \n",
       "7             29  \n",
       "8             21  \n",
       "9             24  "
      ]
     },
     "execution_count": 3,
     "metadata": {},
     "output_type": "execute_result"
    }
   ],
   "source": [
    "df.head(10)"
   ]
  },
  {
   "cell_type": "code",
   "execution_count": 4,
   "metadata": {},
   "outputs": [
    {
     "data": {
      "text/plain": [
       "(11825, 9)"
      ]
     },
     "execution_count": 4,
     "metadata": {},
     "output_type": "execute_result"
    }
   ],
   "source": [
    "df.shape"
   ]
  },
  {
   "cell_type": "code",
   "execution_count": 5,
   "metadata": {},
   "outputs": [
    {
     "name": "stdout",
     "output_type": "stream",
     "text": [
      "<class 'pandas.core.frame.DataFrame'>\n",
      "RangeIndex: 11825 entries, 0 to 11824\n",
      "Data columns (total 9 columns):\n",
      " #   Column              Non-Null Count  Dtype \n",
      "---  ------              --------------  ----- \n",
      " 0   Medicine Name       11825 non-null  object\n",
      " 1   Composition         11825 non-null  object\n",
      " 2   Uses                11825 non-null  object\n",
      " 3   Side_effects        11825 non-null  object\n",
      " 4   Image URL           11825 non-null  object\n",
      " 5   Manufacturer        11825 non-null  object\n",
      " 6   Excellent Review %  11825 non-null  int64 \n",
      " 7   Average Review %    11825 non-null  int64 \n",
      " 8   Poor Review %       11825 non-null  int64 \n",
      "dtypes: int64(3), object(6)\n",
      "memory usage: 831.6+ KB\n"
     ]
    }
   ],
   "source": [
    "df.info()"
   ]
  },
  {
   "cell_type": "code",
   "execution_count": 6,
   "metadata": {},
   "outputs": [
    {
     "data": {
      "text/plain": [
       "Medicine Name         0\n",
       "Composition           0\n",
       "Uses                  0\n",
       "Side_effects          0\n",
       "Image URL             0\n",
       "Manufacturer          0\n",
       "Excellent Review %    0\n",
       "Average Review %      0\n",
       "Poor Review %         0\n",
       "dtype: int64"
      ]
     },
     "execution_count": 6,
     "metadata": {},
     "output_type": "execute_result"
    }
   ],
   "source": [
    "df.isnull().sum()"
   ]
  },
  {
   "cell_type": "code",
   "execution_count": 7,
   "metadata": {},
   "outputs": [
    {
     "data": {
      "text/plain": [
       "84"
      ]
     },
     "execution_count": 7,
     "metadata": {},
     "output_type": "execute_result"
    }
   ],
   "source": [
    "df.duplicated().sum()"
   ]
  },
  {
   "cell_type": "code",
   "execution_count": 8,
   "metadata": {},
   "outputs": [
    {
     "data": {
      "text/plain": [
       "626"
      ]
     },
     "execution_count": 8,
     "metadata": {},
     "output_type": "execute_result"
    }
   ],
   "source": [
    "df.duplicated(subset=['Medicine Name'], keep=False).sum()"
   ]
  },
  {
   "cell_type": "code",
   "execution_count": 9,
   "metadata": {},
   "outputs": [],
   "source": [
    "df['Medicine Name'] = df['Medicine Name'].str.lower()"
   ]
  },
  {
   "cell_type": "code",
   "execution_count": 10,
   "metadata": {},
   "outputs": [
    {
     "data": {
      "text/html": [
       "<div>\n",
       "<style scoped>\n",
       "    .dataframe tbody tr th:only-of-type {\n",
       "        vertical-align: middle;\n",
       "    }\n",
       "\n",
       "    .dataframe tbody tr th {\n",
       "        vertical-align: top;\n",
       "    }\n",
       "\n",
       "    .dataframe thead th {\n",
       "        text-align: right;\n",
       "    }\n",
       "</style>\n",
       "<table border=\"1\" class=\"dataframe\">\n",
       "  <thead>\n",
       "    <tr style=\"text-align: right;\">\n",
       "      <th></th>\n",
       "      <th>Medicine Name</th>\n",
       "      <th>Composition</th>\n",
       "      <th>Uses</th>\n",
       "      <th>Side_effects</th>\n",
       "      <th>Image URL</th>\n",
       "      <th>Manufacturer</th>\n",
       "      <th>Excellent Review %</th>\n",
       "      <th>Average Review %</th>\n",
       "      <th>Poor Review %</th>\n",
       "    </tr>\n",
       "  </thead>\n",
       "  <tbody>\n",
       "    <tr>\n",
       "      <th>0</th>\n",
       "      <td>avastin 400mg injection</td>\n",
       "      <td>Bevacizumab (400mg)</td>\n",
       "      <td>Cancer of colon and rectum Non-small cell lun...</td>\n",
       "      <td>Rectal bleeding Taste change Headache Noseblee...</td>\n",
       "      <td>https://onemg.gumlet.io/l_watermark_346,w_480,...</td>\n",
       "      <td>Roche Products India Pvt Ltd</td>\n",
       "      <td>22</td>\n",
       "      <td>56</td>\n",
       "      <td>22</td>\n",
       "    </tr>\n",
       "    <tr>\n",
       "      <th>1</th>\n",
       "      <td>augmentin 625 duo tablet</td>\n",
       "      <td>Amoxycillin  (500mg) +  Clavulanic Acid (125mg)</td>\n",
       "      <td>Treatment of Bacterial infections</td>\n",
       "      <td>Vomiting Nausea Diarrhea Mucocutaneous candidi...</td>\n",
       "      <td>https://onemg.gumlet.io/l_watermark_346,w_480,...</td>\n",
       "      <td>Glaxo SmithKline Pharmaceuticals Ltd</td>\n",
       "      <td>47</td>\n",
       "      <td>35</td>\n",
       "      <td>18</td>\n",
       "    </tr>\n",
       "    <tr>\n",
       "      <th>2</th>\n",
       "      <td>azithral 500 tablet</td>\n",
       "      <td>Azithromycin (500mg)</td>\n",
       "      <td>Treatment of Bacterial infections</td>\n",
       "      <td>Nausea Abdominal pain Diarrhea</td>\n",
       "      <td>https://onemg.gumlet.io/l_watermark_346,w_480,...</td>\n",
       "      <td>Alembic Pharmaceuticals Ltd</td>\n",
       "      <td>39</td>\n",
       "      <td>40</td>\n",
       "      <td>21</td>\n",
       "    </tr>\n",
       "    <tr>\n",
       "      <th>3</th>\n",
       "      <td>ascoril ls syrup</td>\n",
       "      <td>Ambroxol (30mg/5ml) + Levosalbutamol (1mg/5ml)...</td>\n",
       "      <td>Treatment of Cough with mucus</td>\n",
       "      <td>Nausea Vomiting Diarrhea Upset stomach Stomach...</td>\n",
       "      <td>https://onemg.gumlet.io/l_watermark_346,w_480,...</td>\n",
       "      <td>Glenmark Pharmaceuticals Ltd</td>\n",
       "      <td>24</td>\n",
       "      <td>41</td>\n",
       "      <td>35</td>\n",
       "    </tr>\n",
       "    <tr>\n",
       "      <th>4</th>\n",
       "      <td>aciloc 150 tablet</td>\n",
       "      <td>Ranitidine (150mg)</td>\n",
       "      <td>Treatment of Gastroesophageal reflux disease (...</td>\n",
       "      <td>Headache Diarrhea Gastrointestinal disturbance</td>\n",
       "      <td>https://onemg.gumlet.io/l_watermark_346,w_480,...</td>\n",
       "      <td>Cadila Pharmaceuticals Ltd</td>\n",
       "      <td>34</td>\n",
       "      <td>37</td>\n",
       "      <td>29</td>\n",
       "    </tr>\n",
       "  </tbody>\n",
       "</table>\n",
       "</div>"
      ],
      "text/plain": [
       "              Medicine Name  \\\n",
       "0   avastin 400mg injection   \n",
       "1  augmentin 625 duo tablet   \n",
       "2       azithral 500 tablet   \n",
       "3          ascoril ls syrup   \n",
       "4         aciloc 150 tablet   \n",
       "\n",
       "                                         Composition  \\\n",
       "0                                Bevacizumab (400mg)   \n",
       "1    Amoxycillin  (500mg) +  Clavulanic Acid (125mg)   \n",
       "2                               Azithromycin (500mg)   \n",
       "3  Ambroxol (30mg/5ml) + Levosalbutamol (1mg/5ml)...   \n",
       "4                                 Ranitidine (150mg)   \n",
       "\n",
       "                                                Uses  \\\n",
       "0   Cancer of colon and rectum Non-small cell lun...   \n",
       "1                  Treatment of Bacterial infections   \n",
       "2                  Treatment of Bacterial infections   \n",
       "3                      Treatment of Cough with mucus   \n",
       "4  Treatment of Gastroesophageal reflux disease (...   \n",
       "\n",
       "                                        Side_effects  \\\n",
       "0  Rectal bleeding Taste change Headache Noseblee...   \n",
       "1  Vomiting Nausea Diarrhea Mucocutaneous candidi...   \n",
       "2                     Nausea Abdominal pain Diarrhea   \n",
       "3  Nausea Vomiting Diarrhea Upset stomach Stomach...   \n",
       "4     Headache Diarrhea Gastrointestinal disturbance   \n",
       "\n",
       "                                           Image URL  \\\n",
       "0  https://onemg.gumlet.io/l_watermark_346,w_480,...   \n",
       "1  https://onemg.gumlet.io/l_watermark_346,w_480,...   \n",
       "2  https://onemg.gumlet.io/l_watermark_346,w_480,...   \n",
       "3  https://onemg.gumlet.io/l_watermark_346,w_480,...   \n",
       "4  https://onemg.gumlet.io/l_watermark_346,w_480,...   \n",
       "\n",
       "                           Manufacturer  Excellent Review %  Average Review %  \\\n",
       "0          Roche Products India Pvt Ltd                  22                56   \n",
       "1  Glaxo SmithKline Pharmaceuticals Ltd                  47                35   \n",
       "2           Alembic Pharmaceuticals Ltd                  39                40   \n",
       "3          Glenmark Pharmaceuticals Ltd                  24                41   \n",
       "4            Cadila Pharmaceuticals Ltd                  34                37   \n",
       "\n",
       "   Poor Review %  \n",
       "0             22  \n",
       "1             18  \n",
       "2             21  \n",
       "3             35  \n",
       "4             29  "
      ]
     },
     "execution_count": 10,
     "metadata": {},
     "output_type": "execute_result"
    }
   ],
   "source": [
    "df.head()"
   ]
  },
  {
   "cell_type": "code",
   "execution_count": 11,
   "metadata": {},
   "outputs": [],
   "source": [
    "df = df.drop_duplicates(subset=['Medicine Name'], keep='first')"
   ]
  },
  {
   "cell_type": "code",
   "execution_count": 12,
   "metadata": {},
   "outputs": [
    {
     "data": {
      "text/plain": [
       "0"
      ]
     },
     "execution_count": 12,
     "metadata": {},
     "output_type": "execute_result"
    }
   ],
   "source": [
    "df.duplicated(subset=['Medicine Name'], keep=False).sum()"
   ]
  },
  {
   "cell_type": "code",
   "execution_count": 13,
   "metadata": {},
   "outputs": [
    {
     "data": {
      "text/plain": [
       "(11498, 9)"
      ]
     },
     "execution_count": 13,
     "metadata": {},
     "output_type": "execute_result"
    }
   ],
   "source": [
    "df.shape"
   ]
  },
  {
   "cell_type": "code",
   "execution_count": 14,
   "metadata": {},
   "outputs": [
    {
     "data": {
      "image/png": "[encoded data removed]",
      "text/plain": [
       "<PIL.PngImagePlugin.PngImageFile image mode=P size=195x480>"
      ]
     },
     "metadata": {},
     "output_type": "display_data"
    }
   ],
   "source": [
    "from IPython.display import display\n",
    "from PIL import Image\n",
    "import requests\n",
    "from io import BytesIO\n",
    "\n",
    "image_url = df.loc[3, 'Image URL'] \n",
    "\n",
    "response = requests.get(image_url)\n",
    "img = Image.open(BytesIO(response.content))\n",
    "display(img)\n"
   ]
  },
  {
   "cell_type": "code",
   "execution_count": 15,
   "metadata": {},
   "outputs": [],
   "source": [
    "new_df = df[['Medicine Name','Composition', 'Uses']]"
   ]
  },
  {
   "cell_type": "code",
   "execution_count": 16,
   "metadata": {},
   "outputs": [
    {
     "data": {
      "text/html": [
       "<div>\n",
       "<style scoped>\n",
       "    .dataframe tbody tr th:only-of-type {\n",
       "        vertical-align: middle;\n",
       "    }\n",
       "\n",
       "    .dataframe tbody tr th {\n",
       "        vertical-align: top;\n",
       "    }\n",
       "\n",
       "    .dataframe thead th {\n",
       "        text-align: right;\n",
       "    }\n",
       "</style>\n",
       "<table border=\"1\" class=\"dataframe\">\n",
       "  <thead>\n",
       "    <tr style=\"text-align: right;\">\n",
       "      <th></th>\n",
       "      <th>Medicine Name</th>\n",
       "      <th>Composition</th>\n",
       "      <th>Uses</th>\n",
       "    </tr>\n",
       "  </thead>\n",
       "  <tbody>\n",
       "    <tr>\n",
       "      <th>0</th>\n",
       "      <td>avastin 400mg injection</td>\n",
       "      <td>Bevacizumab (400mg)</td>\n",
       "      <td>Cancer of colon and rectum Non-small cell lun...</td>\n",
       "    </tr>\n",
       "    <tr>\n",
       "      <th>1</th>\n",
       "      <td>augmentin 625 duo tablet</td>\n",
       "      <td>Amoxycillin  (500mg) +  Clavulanic Acid (125mg)</td>\n",
       "      <td>Treatment of Bacterial infections</td>\n",
       "    </tr>\n",
       "    <tr>\n",
       "      <th>2</th>\n",
       "      <td>azithral 500 tablet</td>\n",
       "      <td>Azithromycin (500mg)</td>\n",
       "      <td>Treatment of Bacterial infections</td>\n",
       "    </tr>\n",
       "    <tr>\n",
       "      <th>3</th>\n",
       "      <td>ascoril ls syrup</td>\n",
       "      <td>Ambroxol (30mg/5ml) + Levosalbutamol (1mg/5ml)...</td>\n",
       "      <td>Treatment of Cough with mucus</td>\n",
       "    </tr>\n",
       "    <tr>\n",
       "      <th>4</th>\n",
       "      <td>aciloc 150 tablet</td>\n",
       "      <td>Ranitidine (150mg)</td>\n",
       "      <td>Treatment of Gastroesophageal reflux disease (...</td>\n",
       "    </tr>\n",
       "    <tr>\n",
       "      <th>...</th>\n",
       "      <td>...</td>\n",
       "      <td>...</td>\n",
       "      <td>...</td>\n",
       "    </tr>\n",
       "    <tr>\n",
       "      <th>11819</th>\n",
       "      <td>zenegra lido spray</td>\n",
       "      <td>Lidocaine (9.5% w/w)</td>\n",
       "      <td>Local anesthesia (Numb tissues in a specific ...</td>\n",
       "    </tr>\n",
       "    <tr>\n",
       "      <th>11820</th>\n",
       "      <td>zilarta-ct 40/6.25 tablet</td>\n",
       "      <td>Azilsartan medoxomil (40mg) + Chlorthalidone (...</td>\n",
       "      <td>Hypertension (high blood pressure)</td>\n",
       "    </tr>\n",
       "    <tr>\n",
       "      <th>11821</th>\n",
       "      <td>zipcoz tablet</td>\n",
       "      <td>Chromium Picolinate (100mcg) + D-Chiro Inosito...</td>\n",
       "      <td>Polycystic ovarian syndrome (PCOS)</td>\n",
       "    </tr>\n",
       "    <tr>\n",
       "      <th>11822</th>\n",
       "      <td>zestasil 100 tablet</td>\n",
       "      <td>Sildenafil (100mg)</td>\n",
       "      <td>Treatment of Erectile dysfunction</td>\n",
       "    </tr>\n",
       "    <tr>\n",
       "      <th>11823</th>\n",
       "      <td>zedruff shampoo</td>\n",
       "      <td>Ketoconazole (2% w/v) + Zinc pyrithione (1% w/v)</td>\n",
       "      <td>Treatment of Dandruff</td>\n",
       "    </tr>\n",
       "  </tbody>\n",
       "</table>\n",
       "<p>11498 rows × 3 columns</p>\n",
       "</div>"
      ],
      "text/plain": [
       "                   Medicine Name  \\\n",
       "0        avastin 400mg injection   \n",
       "1       augmentin 625 duo tablet   \n",
       "2            azithral 500 tablet   \n",
       "3               ascoril ls syrup   \n",
       "4              aciloc 150 tablet   \n",
       "...                          ...   \n",
       "11819         zenegra lido spray   \n",
       "11820  zilarta-ct 40/6.25 tablet   \n",
       "11821              zipcoz tablet   \n",
       "11822        zestasil 100 tablet   \n",
       "11823            zedruff shampoo   \n",
       "\n",
       "                                             Composition  \\\n",
       "0                                    Bevacizumab (400mg)   \n",
       "1        Amoxycillin  (500mg) +  Clavulanic Acid (125mg)   \n",
       "2                                   Azithromycin (500mg)   \n",
       "3      Ambroxol (30mg/5ml) + Levosalbutamol (1mg/5ml)...   \n",
       "4                                     Ranitidine (150mg)   \n",
       "...                                                  ...   \n",
       "11819                               Lidocaine (9.5% w/w)   \n",
       "11820  Azilsartan medoxomil (40mg) + Chlorthalidone (...   \n",
       "11821  Chromium Picolinate (100mcg) + D-Chiro Inosito...   \n",
       "11822                                 Sildenafil (100mg)   \n",
       "11823   Ketoconazole (2% w/v) + Zinc pyrithione (1% w/v)   \n",
       "\n",
       "                                                    Uses  \n",
       "0       Cancer of colon and rectum Non-small cell lun...  \n",
       "1                      Treatment of Bacterial infections  \n",
       "2                      Treatment of Bacterial infections  \n",
       "3                          Treatment of Cough with mucus  \n",
       "4      Treatment of Gastroesophageal reflux disease (...  \n",
       "...                                                  ...  \n",
       "11819   Local anesthesia (Numb tissues in a specific ...  \n",
       "11820                 Hypertension (high blood pressure)  \n",
       "11821                 Polycystic ovarian syndrome (PCOS)  \n",
       "11822                  Treatment of Erectile dysfunction  \n",
       "11823                              Treatment of Dandruff  \n",
       "\n",
       "[11498 rows x 3 columns]"
      ]
     },
     "execution_count": 16,
     "metadata": {},
     "output_type": "execute_result"
    }
   ],
   "source": [
    "new_df"
   ]
  },
  {
   "cell_type": "code",
   "execution_count": 17,
   "metadata": {},
   "outputs": [
    {
     "name": "stderr",
     "output_type": "stream",
     "text": [
      "C:\\Users\\Jyothi\\AppData\\Local\\Temp\\ipykernel_14768\\1109323133.py:1: SettingWithCopyWarning: \n",
      "A value is trying to be set on a copy of a slice from a DataFrame.\n",
      "Try using .loc[row_indexer,col_indexer] = value instead\n",
      "\n",
      "See the caveats in the documentation: https://pandas.pydata.org/pandas-docs/stable/user_guide/indexing.html#returning-a-view-versus-a-copy\n",
      "  new_df[['Composition', 'Uses']] = new_df[['Composition', 'Uses']].apply(lambda x:x.str.split())\n"
     ]
    }
   ],
   "source": [
    "new_df[['Composition', 'Uses']] = new_df[['Composition', 'Uses']].apply(lambda x:x.str.split())"
   ]
  },
  {
   "cell_type": "code",
   "execution_count": 18,
   "metadata": {},
   "outputs": [
    {
     "data": {
      "text/html": [
       "<div>\n",
       "<style scoped>\n",
       "    .dataframe tbody tr th:only-of-type {\n",
       "        vertical-align: middle;\n",
       "    }\n",
       "\n",
       "    .dataframe tbody tr th {\n",
       "        vertical-align: top;\n",
       "    }\n",
       "\n",
       "    .dataframe thead th {\n",
       "        text-align: right;\n",
       "    }\n",
       "</style>\n",
       "<table border=\"1\" class=\"dataframe\">\n",
       "  <thead>\n",
       "    <tr style=\"text-align: right;\">\n",
       "      <th></th>\n",
       "      <th>Medicine Name</th>\n",
       "      <th>Composition</th>\n",
       "      <th>Uses</th>\n",
       "    </tr>\n",
       "  </thead>\n",
       "  <tbody>\n",
       "    <tr>\n",
       "      <th>0</th>\n",
       "      <td>avastin 400mg injection</td>\n",
       "      <td>[Bevacizumab, (400mg)]</td>\n",
       "      <td>[Cancer, of, colon, and, rectum, Non-small, ce...</td>\n",
       "    </tr>\n",
       "    <tr>\n",
       "      <th>1</th>\n",
       "      <td>augmentin 625 duo tablet</td>\n",
       "      <td>[Amoxycillin, (500mg), +, Clavulanic, Acid, (1...</td>\n",
       "      <td>[Treatment, of, Bacterial, infections]</td>\n",
       "    </tr>\n",
       "    <tr>\n",
       "      <th>2</th>\n",
       "      <td>azithral 500 tablet</td>\n",
       "      <td>[Azithromycin, (500mg)]</td>\n",
       "      <td>[Treatment, of, Bacterial, infections]</td>\n",
       "    </tr>\n",
       "    <tr>\n",
       "      <th>3</th>\n",
       "      <td>ascoril ls syrup</td>\n",
       "      <td>[Ambroxol, (30mg/5ml), +, Levosalbutamol, (1mg...</td>\n",
       "      <td>[Treatment, of, Cough, with, mucus]</td>\n",
       "    </tr>\n",
       "    <tr>\n",
       "      <th>4</th>\n",
       "      <td>aciloc 150 tablet</td>\n",
       "      <td>[Ranitidine, (150mg)]</td>\n",
       "      <td>[Treatment, of, Gastroesophageal, reflux, dise...</td>\n",
       "    </tr>\n",
       "    <tr>\n",
       "      <th>...</th>\n",
       "      <td>...</td>\n",
       "      <td>...</td>\n",
       "      <td>...</td>\n",
       "    </tr>\n",
       "    <tr>\n",
       "      <th>11819</th>\n",
       "      <td>zenegra lido spray</td>\n",
       "      <td>[Lidocaine, (9.5%, w/w)]</td>\n",
       "      <td>[Local, anesthesia, (Numb, tissues, in, a, spe...</td>\n",
       "    </tr>\n",
       "    <tr>\n",
       "      <th>11820</th>\n",
       "      <td>zilarta-ct 40/6.25 tablet</td>\n",
       "      <td>[Azilsartan, medoxomil, (40mg), +, Chlorthalid...</td>\n",
       "      <td>[Hypertension, (high, blood, pressure)]</td>\n",
       "    </tr>\n",
       "    <tr>\n",
       "      <th>11821</th>\n",
       "      <td>zipcoz tablet</td>\n",
       "      <td>[Chromium, Picolinate, (100mcg), +, D-Chiro, I...</td>\n",
       "      <td>[Polycystic, ovarian, syndrome, (PCOS)]</td>\n",
       "    </tr>\n",
       "    <tr>\n",
       "      <th>11822</th>\n",
       "      <td>zestasil 100 tablet</td>\n",
       "      <td>[Sildenafil, (100mg)]</td>\n",
       "      <td>[Treatment, of, Erectile, dysfunction]</td>\n",
       "    </tr>\n",
       "    <tr>\n",
       "      <th>11823</th>\n",
       "      <td>zedruff shampoo</td>\n",
       "      <td>[Ketoconazole, (2%, w/v), +, Zinc, pyrithione,...</td>\n",
       "      <td>[Treatment, of, Dandruff]</td>\n",
       "    </tr>\n",
       "  </tbody>\n",
       "</table>\n",
       "<p>11498 rows × 3 columns</p>\n",
       "</div>"
      ],
      "text/plain": [
       "                   Medicine Name  \\\n",
       "0        avastin 400mg injection   \n",
       "1       augmentin 625 duo tablet   \n",
       "2            azithral 500 tablet   \n",
       "3               ascoril ls syrup   \n",
       "4              aciloc 150 tablet   \n",
       "...                          ...   \n",
       "11819         zenegra lido spray   \n",
       "11820  zilarta-ct 40/6.25 tablet   \n",
       "11821              zipcoz tablet   \n",
       "11822        zestasil 100 tablet   \n",
       "11823            zedruff shampoo   \n",
       "\n",
       "                                             Composition  \\\n",
       "0                                 [Bevacizumab, (400mg)]   \n",
       "1      [Amoxycillin, (500mg), +, Clavulanic, Acid, (1...   \n",
       "2                                [Azithromycin, (500mg)]   \n",
       "3      [Ambroxol, (30mg/5ml), +, Levosalbutamol, (1mg...   \n",
       "4                                  [Ranitidine, (150mg)]   \n",
       "...                                                  ...   \n",
       "11819                           [Lidocaine, (9.5%, w/w)]   \n",
       "11820  [Azilsartan, medoxomil, (40mg), +, Chlorthalid...   \n",
       "11821  [Chromium, Picolinate, (100mcg), +, D-Chiro, I...   \n",
       "11822                              [Sildenafil, (100mg)]   \n",
       "11823  [Ketoconazole, (2%, w/v), +, Zinc, pyrithione,...   \n",
       "\n",
       "                                                    Uses  \n",
       "0      [Cancer, of, colon, and, rectum, Non-small, ce...  \n",
       "1                 [Treatment, of, Bacterial, infections]  \n",
       "2                 [Treatment, of, Bacterial, infections]  \n",
       "3                    [Treatment, of, Cough, with, mucus]  \n",
       "4      [Treatment, of, Gastroesophageal, reflux, dise...  \n",
       "...                                                  ...  \n",
       "11819  [Local, anesthesia, (Numb, tissues, in, a, spe...  \n",
       "11820            [Hypertension, (high, blood, pressure)]  \n",
       "11821            [Polycystic, ovarian, syndrome, (PCOS)]  \n",
       "11822             [Treatment, of, Erectile, dysfunction]  \n",
       "11823                          [Treatment, of, Dandruff]  \n",
       "\n",
       "[11498 rows x 3 columns]"
      ]
     },
     "execution_count": 18,
     "metadata": {},
     "output_type": "execute_result"
    }
   ],
   "source": [
    "new_df"
   ]
  },
  {
   "cell_type": "code",
   "execution_count": 19,
   "metadata": {},
   "outputs": [
    {
     "name": "stderr",
     "output_type": "stream",
     "text": [
      "C:\\Users\\Jyothi\\AppData\\Local\\Temp\\ipykernel_14768\\1003638729.py:1: SettingWithCopyWarning: \n",
      "A value is trying to be set on a copy of a slice from a DataFrame.\n",
      "Try using .loc[row_indexer,col_indexer] = value instead\n",
      "\n",
      "See the caveats in the documentation: https://pandas.pydata.org/pandas-docs/stable/user_guide/indexing.html#returning-a-view-versus-a-copy\n",
      "  new_df['tags'] = new_df['Composition'] + new_df['Uses']\n"
     ]
    }
   ],
   "source": [
    "new_df['tags'] = new_df['Composition'] + new_df['Uses']"
   ]
  },
  {
   "cell_type": "code",
   "execution_count": 20,
   "metadata": {},
   "outputs": [
    {
     "data": {
      "text/html": [
       "<div>\n",
       "<style scoped>\n",
       "    .dataframe tbody tr th:only-of-type {\n",
       "        vertical-align: middle;\n",
       "    }\n",
       "\n",
       "    .dataframe tbody tr th {\n",
       "        vertical-align: top;\n",
       "    }\n",
       "\n",
       "    .dataframe thead th {\n",
       "        text-align: right;\n",
       "    }\n",
       "</style>\n",
       "<table border=\"1\" class=\"dataframe\">\n",
       "  <thead>\n",
       "    <tr style=\"text-align: right;\">\n",
       "      <th></th>\n",
       "      <th>Medicine Name</th>\n",
       "      <th>Composition</th>\n",
       "      <th>Uses</th>\n",
       "      <th>tags</th>\n",
       "    </tr>\n",
       "  </thead>\n",
       "  <tbody>\n",
       "    <tr>\n",
       "      <th>0</th>\n",
       "      <td>avastin 400mg injection</td>\n",
       "      <td>[Bevacizumab, (400mg)]</td>\n",
       "      <td>[Cancer, of, colon, and, rectum, Non-small, ce...</td>\n",
       "      <td>[Bevacizumab, (400mg), Cancer, of, colon, and,...</td>\n",
       "    </tr>\n",
       "    <tr>\n",
       "      <th>1</th>\n",
       "      <td>augmentin 625 duo tablet</td>\n",
       "      <td>[Amoxycillin, (500mg), +, Clavulanic, Acid, (1...</td>\n",
       "      <td>[Treatment, of, Bacterial, infections]</td>\n",
       "      <td>[Amoxycillin, (500mg), +, Clavulanic, Acid, (1...</td>\n",
       "    </tr>\n",
       "    <tr>\n",
       "      <th>2</th>\n",
       "      <td>azithral 500 tablet</td>\n",
       "      <td>[Azithromycin, (500mg)]</td>\n",
       "      <td>[Treatment, of, Bacterial, infections]</td>\n",
       "      <td>[Azithromycin, (500mg), Treatment, of, Bacteri...</td>\n",
       "    </tr>\n",
       "    <tr>\n",
       "      <th>3</th>\n",
       "      <td>ascoril ls syrup</td>\n",
       "      <td>[Ambroxol, (30mg/5ml), +, Levosalbutamol, (1mg...</td>\n",
       "      <td>[Treatment, of, Cough, with, mucus]</td>\n",
       "      <td>[Ambroxol, (30mg/5ml), +, Levosalbutamol, (1mg...</td>\n",
       "    </tr>\n",
       "    <tr>\n",
       "      <th>4</th>\n",
       "      <td>aciloc 150 tablet</td>\n",
       "      <td>[Ranitidine, (150mg)]</td>\n",
       "      <td>[Treatment, of, Gastroesophageal, reflux, dise...</td>\n",
       "      <td>[Ranitidine, (150mg), Treatment, of, Gastroeso...</td>\n",
       "    </tr>\n",
       "    <tr>\n",
       "      <th>...</th>\n",
       "      <td>...</td>\n",
       "      <td>...</td>\n",
       "      <td>...</td>\n",
       "      <td>...</td>\n",
       "    </tr>\n",
       "    <tr>\n",
       "      <th>11819</th>\n",
       "      <td>zenegra lido spray</td>\n",
       "      <td>[Lidocaine, (9.5%, w/w)]</td>\n",
       "      <td>[Local, anesthesia, (Numb, tissues, in, a, spe...</td>\n",
       "      <td>[Lidocaine, (9.5%, w/w), Local, anesthesia, (N...</td>\n",
       "    </tr>\n",
       "    <tr>\n",
       "      <th>11820</th>\n",
       "      <td>zilarta-ct 40/6.25 tablet</td>\n",
       "      <td>[Azilsartan, medoxomil, (40mg), +, Chlorthalid...</td>\n",
       "      <td>[Hypertension, (high, blood, pressure)]</td>\n",
       "      <td>[Azilsartan, medoxomil, (40mg), +, Chlorthalid...</td>\n",
       "    </tr>\n",
       "    <tr>\n",
       "      <th>11821</th>\n",
       "      <td>zipcoz tablet</td>\n",
       "      <td>[Chromium, Picolinate, (100mcg), +, D-Chiro, I...</td>\n",
       "      <td>[Polycystic, ovarian, syndrome, (PCOS)]</td>\n",
       "      <td>[Chromium, Picolinate, (100mcg), +, D-Chiro, I...</td>\n",
       "    </tr>\n",
       "    <tr>\n",
       "      <th>11822</th>\n",
       "      <td>zestasil 100 tablet</td>\n",
       "      <td>[Sildenafil, (100mg)]</td>\n",
       "      <td>[Treatment, of, Erectile, dysfunction]</td>\n",
       "      <td>[Sildenafil, (100mg), Treatment, of, Erectile,...</td>\n",
       "    </tr>\n",
       "    <tr>\n",
       "      <th>11823</th>\n",
       "      <td>zedruff shampoo</td>\n",
       "      <td>[Ketoconazole, (2%, w/v), +, Zinc, pyrithione,...</td>\n",
       "      <td>[Treatment, of, Dandruff]</td>\n",
       "      <td>[Ketoconazole, (2%, w/v), +, Zinc, pyrithione,...</td>\n",
       "    </tr>\n",
       "  </tbody>\n",
       "</table>\n",
       "<p>11498 rows × 4 columns</p>\n",
       "</div>"
      ],
      "text/plain": [
       "                   Medicine Name  \\\n",
       "0        avastin 400mg injection   \n",
       "1       augmentin 625 duo tablet   \n",
       "2            azithral 500 tablet   \n",
       "3               ascoril ls syrup   \n",
       "4              aciloc 150 tablet   \n",
       "...                          ...   \n",
       "11819         zenegra lido spray   \n",
       "11820  zilarta-ct 40/6.25 tablet   \n",
       "11821              zipcoz tablet   \n",
       "11822        zestasil 100 tablet   \n",
       "11823            zedruff shampoo   \n",
       "\n",
       "                                             Composition  \\\n",
       "0                                 [Bevacizumab, (400mg)]   \n",
       "1      [Amoxycillin, (500mg), +, Clavulanic, Acid, (1...   \n",
       "2                                [Azithromycin, (500mg)]   \n",
       "3      [Ambroxol, (30mg/5ml), +, Levosalbutamol, (1mg...   \n",
       "4                                  [Ranitidine, (150mg)]   \n",
       "...                                                  ...   \n",
       "11819                           [Lidocaine, (9.5%, w/w)]   \n",
       "11820  [Azilsartan, medoxomil, (40mg), +, Chlorthalid...   \n",
       "11821  [Chromium, Picolinate, (100mcg), +, D-Chiro, I...   \n",
       "11822                              [Sildenafil, (100mg)]   \n",
       "11823  [Ketoconazole, (2%, w/v), +, Zinc, pyrithione,...   \n",
       "\n",
       "                                                    Uses  \\\n",
       "0      [Cancer, of, colon, and, rectum, Non-small, ce...   \n",
       "1                 [Treatment, of, Bacterial, infections]   \n",
       "2                 [Treatment, of, Bacterial, infections]   \n",
       "3                    [Treatment, of, Cough, with, mucus]   \n",
       "4      [Treatment, of, Gastroesophageal, reflux, dise...   \n",
       "...                                                  ...   \n",
       "11819  [Local, anesthesia, (Numb, tissues, in, a, spe...   \n",
       "11820            [Hypertension, (high, blood, pressure)]   \n",
       "11821            [Polycystic, ovarian, syndrome, (PCOS)]   \n",
       "11822             [Treatment, of, Erectile, dysfunction]   \n",
       "11823                          [Treatment, of, Dandruff]   \n",
       "\n",
       "                                                    tags  \n",
       "0      [Bevacizumab, (400mg), Cancer, of, colon, and,...  \n",
       "1      [Amoxycillin, (500mg), +, Clavulanic, Acid, (1...  \n",
       "2      [Azithromycin, (500mg), Treatment, of, Bacteri...  \n",
       "3      [Ambroxol, (30mg/5ml), +, Levosalbutamol, (1mg...  \n",
       "4      [Ranitidine, (150mg), Treatment, of, Gastroeso...  \n",
       "...                                                  ...  \n",
       "11819  [Lidocaine, (9.5%, w/w), Local, anesthesia, (N...  \n",
       "11820  [Azilsartan, medoxomil, (40mg), +, Chlorthalid...  \n",
       "11821  [Chromium, Picolinate, (100mcg), +, D-Chiro, I...  \n",
       "11822  [Sildenafil, (100mg), Treatment, of, Erectile,...  \n",
       "11823  [Ketoconazole, (2%, w/v), +, Zinc, pyrithione,...  \n",
       "\n",
       "[11498 rows x 4 columns]"
      ]
     },
     "execution_count": 20,
     "metadata": {},
     "output_type": "execute_result"
    }
   ],
   "source": [
    "new_df"
   ]
  },
  {
   "cell_type": "code",
   "execution_count": 21,
   "metadata": {},
   "outputs": [
    {
     "name": "stderr",
     "output_type": "stream",
     "text": [
      "C:\\Users\\Jyothi\\AppData\\Local\\Temp\\ipykernel_14768\\2908844515.py:1: SettingWithCopyWarning: \n",
      "A value is trying to be set on a copy of a slice from a DataFrame.\n",
      "Try using .loc[row_indexer,col_indexer] = value instead\n",
      "\n",
      "See the caveats in the documentation: https://pandas.pydata.org/pandas-docs/stable/user_guide/indexing.html#returning-a-view-versus-a-copy\n",
      "  new_df['tags'] = new_df['tags'].apply(lambda x:[i.replace(\" \",\"\") for i in x])\n",
      "C:\\Users\\Jyothi\\AppData\\Local\\Temp\\ipykernel_14768\\2908844515.py:2: SettingWithCopyWarning: \n",
      "A value is trying to be set on a copy of a slice from a DataFrame.\n",
      "Try using .loc[row_indexer,col_indexer] = value instead\n",
      "\n",
      "See the caveats in the documentation: https://pandas.pydata.org/pandas-docs/stable/user_guide/indexing.html#returning-a-view-versus-a-copy\n",
      "  new_df['tags'] = new_df['tags'].apply(lambda x:\" \".join(x))\n"
     ]
    }
   ],
   "source": [
    "new_df['tags'] = new_df['tags'].apply(lambda x:[i.replace(\" \",\"\") for i in x])\n",
    "new_df['tags'] = new_df['tags'].apply(lambda x:\" \".join(x))"
   ]
  },
  {
   "cell_type": "code",
   "execution_count": 22,
   "metadata": {},
   "outputs": [
    {
     "data": {
      "text/html": [
       "<div>\n",
       "<style scoped>\n",
       "    .dataframe tbody tr th:only-of-type {\n",
       "        vertical-align: middle;\n",
       "    }\n",
       "\n",
       "    .dataframe tbody tr th {\n",
       "        vertical-align: top;\n",
       "    }\n",
       "\n",
       "    .dataframe thead th {\n",
       "        text-align: right;\n",
       "    }\n",
       "</style>\n",
       "<table border=\"1\" class=\"dataframe\">\n",
       "  <thead>\n",
       "    <tr style=\"text-align: right;\">\n",
       "      <th></th>\n",
       "      <th>Medicine Name</th>\n",
       "      <th>Composition</th>\n",
       "      <th>Uses</th>\n",
       "      <th>tags</th>\n",
       "    </tr>\n",
       "  </thead>\n",
       "  <tbody>\n",
       "    <tr>\n",
       "      <th>0</th>\n",
       "      <td>avastin 400mg injection</td>\n",
       "      <td>[Bevacizumab, (400mg)]</td>\n",
       "      <td>[Cancer, of, colon, and, rectum, Non-small, ce...</td>\n",
       "      <td>Bevacizumab (400mg) Cancer of colon and rectum...</td>\n",
       "    </tr>\n",
       "    <tr>\n",
       "      <th>1</th>\n",
       "      <td>augmentin 625 duo tablet</td>\n",
       "      <td>[Amoxycillin, (500mg), +, Clavulanic, Acid, (1...</td>\n",
       "      <td>[Treatment, of, Bacterial, infections]</td>\n",
       "      <td>Amoxycillin (500mg) + Clavulanic Acid (125mg) ...</td>\n",
       "    </tr>\n",
       "    <tr>\n",
       "      <th>2</th>\n",
       "      <td>azithral 500 tablet</td>\n",
       "      <td>[Azithromycin, (500mg)]</td>\n",
       "      <td>[Treatment, of, Bacterial, infections]</td>\n",
       "      <td>Azithromycin (500mg) Treatment of Bacterial in...</td>\n",
       "    </tr>\n",
       "    <tr>\n",
       "      <th>3</th>\n",
       "      <td>ascoril ls syrup</td>\n",
       "      <td>[Ambroxol, (30mg/5ml), +, Levosalbutamol, (1mg...</td>\n",
       "      <td>[Treatment, of, Cough, with, mucus]</td>\n",
       "      <td>Ambroxol (30mg/5ml) + Levosalbutamol (1mg/5ml)...</td>\n",
       "    </tr>\n",
       "    <tr>\n",
       "      <th>4</th>\n",
       "      <td>aciloc 150 tablet</td>\n",
       "      <td>[Ranitidine, (150mg)]</td>\n",
       "      <td>[Treatment, of, Gastroesophageal, reflux, dise...</td>\n",
       "      <td>Ranitidine (150mg) Treatment of Gastroesophage...</td>\n",
       "    </tr>\n",
       "    <tr>\n",
       "      <th>...</th>\n",
       "      <td>...</td>\n",
       "      <td>...</td>\n",
       "      <td>...</td>\n",
       "      <td>...</td>\n",
       "    </tr>\n",
       "    <tr>\n",
       "      <th>11819</th>\n",
       "      <td>zenegra lido spray</td>\n",
       "      <td>[Lidocaine, (9.5%, w/w)]</td>\n",
       "      <td>[Local, anesthesia, (Numb, tissues, in, a, spe...</td>\n",
       "      <td>Lidocaine (9.5% w/w) Local anesthesia (Numb ti...</td>\n",
       "    </tr>\n",
       "    <tr>\n",
       "      <th>11820</th>\n",
       "      <td>zilarta-ct 40/6.25 tablet</td>\n",
       "      <td>[Azilsartan, medoxomil, (40mg), +, Chlorthalid...</td>\n",
       "      <td>[Hypertension, (high, blood, pressure)]</td>\n",
       "      <td>Azilsartan medoxomil (40mg) + Chlorthalidone (...</td>\n",
       "    </tr>\n",
       "    <tr>\n",
       "      <th>11821</th>\n",
       "      <td>zipcoz tablet</td>\n",
       "      <td>[Chromium, Picolinate, (100mcg), +, D-Chiro, I...</td>\n",
       "      <td>[Polycystic, ovarian, syndrome, (PCOS)]</td>\n",
       "      <td>Chromium Picolinate (100mcg) + D-Chiro Inosito...</td>\n",
       "    </tr>\n",
       "    <tr>\n",
       "      <th>11822</th>\n",
       "      <td>zestasil 100 tablet</td>\n",
       "      <td>[Sildenafil, (100mg)]</td>\n",
       "      <td>[Treatment, of, Erectile, dysfunction]</td>\n",
       "      <td>Sildenafil (100mg) Treatment of Erectile dysfu...</td>\n",
       "    </tr>\n",
       "    <tr>\n",
       "      <th>11823</th>\n",
       "      <td>zedruff shampoo</td>\n",
       "      <td>[Ketoconazole, (2%, w/v), +, Zinc, pyrithione,...</td>\n",
       "      <td>[Treatment, of, Dandruff]</td>\n",
       "      <td>Ketoconazole (2% w/v) + Zinc pyrithione (1% w/...</td>\n",
       "    </tr>\n",
       "  </tbody>\n",
       "</table>\n",
       "<p>11498 rows × 4 columns</p>\n",
       "</div>"
      ],
      "text/plain": [
       "                   Medicine Name  \\\n",
       "0        avastin 400mg injection   \n",
       "1       augmentin 625 duo tablet   \n",
       "2            azithral 500 tablet   \n",
       "3               ascoril ls syrup   \n",
       "4              aciloc 150 tablet   \n",
       "...                          ...   \n",
       "11819         zenegra lido spray   \n",
       "11820  zilarta-ct 40/6.25 tablet   \n",
       "11821              zipcoz tablet   \n",
       "11822        zestasil 100 tablet   \n",
       "11823            zedruff shampoo   \n",
       "\n",
       "                                             Composition  \\\n",
       "0                                 [Bevacizumab, (400mg)]   \n",
       "1      [Amoxycillin, (500mg), +, Clavulanic, Acid, (1...   \n",
       "2                                [Azithromycin, (500mg)]   \n",
       "3      [Ambroxol, (30mg/5ml), +, Levosalbutamol, (1mg...   \n",
       "4                                  [Ranitidine, (150mg)]   \n",
       "...                                                  ...   \n",
       "11819                           [Lidocaine, (9.5%, w/w)]   \n",
       "11820  [Azilsartan, medoxomil, (40mg), +, Chlorthalid...   \n",
       "11821  [Chromium, Picolinate, (100mcg), +, D-Chiro, I...   \n",
       "11822                              [Sildenafil, (100mg)]   \n",
       "11823  [Ketoconazole, (2%, w/v), +, Zinc, pyrithione,...   \n",
       "\n",
       "                                                    Uses  \\\n",
       "0      [Cancer, of, colon, and, rectum, Non-small, ce...   \n",
       "1                 [Treatment, of, Bacterial, infections]   \n",
       "2                 [Treatment, of, Bacterial, infections]   \n",
       "3                    [Treatment, of, Cough, with, mucus]   \n",
       "4      [Treatment, of, Gastroesophageal, reflux, dise...   \n",
       "...                                                  ...   \n",
       "11819  [Local, anesthesia, (Numb, tissues, in, a, spe...   \n",
       "11820            [Hypertension, (high, blood, pressure)]   \n",
       "11821            [Polycystic, ovarian, syndrome, (PCOS)]   \n",
       "11822             [Treatment, of, Erectile, dysfunction]   \n",
       "11823                          [Treatment, of, Dandruff]   \n",
       "\n",
       "                                                    tags  \n",
       "0      Bevacizumab (400mg) Cancer of colon and rectum...  \n",
       "1      Amoxycillin (500mg) + Clavulanic Acid (125mg) ...  \n",
       "2      Azithromycin (500mg) Treatment of Bacterial in...  \n",
       "3      Ambroxol (30mg/5ml) + Levosalbutamol (1mg/5ml)...  \n",
       "4      Ranitidine (150mg) Treatment of Gastroesophage...  \n",
       "...                                                  ...  \n",
       "11819  Lidocaine (9.5% w/w) Local anesthesia (Numb ti...  \n",
       "11820  Azilsartan medoxomil (40mg) + Chlorthalidone (...  \n",
       "11821  Chromium Picolinate (100mcg) + D-Chiro Inosito...  \n",
       "11822  Sildenafil (100mg) Treatment of Erectile dysfu...  \n",
       "11823  Ketoconazole (2% w/v) + Zinc pyrithione (1% w/...  \n",
       "\n",
       "[11498 rows x 4 columns]"
      ]
     },
     "execution_count": 22,
     "metadata": {},
     "output_type": "execute_result"
    }
   ],
   "source": [
    "new_df"
   ]
  },
  {
   "cell_type": "code",
   "execution_count": 23,
   "metadata": {},
   "outputs": [
    {
     "name": "stderr",
     "output_type": "stream",
     "text": [
      "C:\\Users\\Jyothi\\AppData\\Local\\Temp\\ipykernel_14768\\2768125789.py:1: SettingWithCopyWarning: \n",
      "A value is trying to be set on a copy of a slice from a DataFrame\n",
      "\n",
      "See the caveats in the documentation: https://pandas.pydata.org/pandas-docs/stable/user_guide/indexing.html#returning-a-view-versus-a-copy\n",
      "  new_df.drop(columns = ['Composition', 'Uses'], inplace = True)\n"
     ]
    }
   ],
   "source": [
    "new_df.drop(columns = ['Composition', 'Uses'], inplace = True)"
   ]
  },
  {
   "cell_type": "code",
   "execution_count": 24,
   "metadata": {},
   "outputs": [
    {
     "data": {
      "text/html": [
       "<div>\n",
       "<style scoped>\n",
       "    .dataframe tbody tr th:only-of-type {\n",
       "        vertical-align: middle;\n",
       "    }\n",
       "\n",
       "    .dataframe tbody tr th {\n",
       "        vertical-align: top;\n",
       "    }\n",
       "\n",
       "    .dataframe thead th {\n",
       "        text-align: right;\n",
       "    }\n",
       "</style>\n",
       "<table border=\"1\" class=\"dataframe\">\n",
       "  <thead>\n",
       "    <tr style=\"text-align: right;\">\n",
       "      <th></th>\n",
       "      <th>Medicine Name</th>\n",
       "      <th>tags</th>\n",
       "    </tr>\n",
       "  </thead>\n",
       "  <tbody>\n",
       "    <tr>\n",
       "      <th>0</th>\n",
       "      <td>avastin 400mg injection</td>\n",
       "      <td>Bevacizumab (400mg) Cancer of colon and rectum...</td>\n",
       "    </tr>\n",
       "    <tr>\n",
       "      <th>1</th>\n",
       "      <td>augmentin 625 duo tablet</td>\n",
       "      <td>Amoxycillin (500mg) + Clavulanic Acid (125mg) ...</td>\n",
       "    </tr>\n",
       "    <tr>\n",
       "      <th>2</th>\n",
       "      <td>azithral 500 tablet</td>\n",
       "      <td>Azithromycin (500mg) Treatment of Bacterial in...</td>\n",
       "    </tr>\n",
       "    <tr>\n",
       "      <th>3</th>\n",
       "      <td>ascoril ls syrup</td>\n",
       "      <td>Ambroxol (30mg/5ml) + Levosalbutamol (1mg/5ml)...</td>\n",
       "    </tr>\n",
       "    <tr>\n",
       "      <th>4</th>\n",
       "      <td>aciloc 150 tablet</td>\n",
       "      <td>Ranitidine (150mg) Treatment of Gastroesophage...</td>\n",
       "    </tr>\n",
       "    <tr>\n",
       "      <th>...</th>\n",
       "      <td>...</td>\n",
       "      <td>...</td>\n",
       "    </tr>\n",
       "    <tr>\n",
       "      <th>11819</th>\n",
       "      <td>zenegra lido spray</td>\n",
       "      <td>Lidocaine (9.5% w/w) Local anesthesia (Numb ti...</td>\n",
       "    </tr>\n",
       "    <tr>\n",
       "      <th>11820</th>\n",
       "      <td>zilarta-ct 40/6.25 tablet</td>\n",
       "      <td>Azilsartan medoxomil (40mg) + Chlorthalidone (...</td>\n",
       "    </tr>\n",
       "    <tr>\n",
       "      <th>11821</th>\n",
       "      <td>zipcoz tablet</td>\n",
       "      <td>Chromium Picolinate (100mcg) + D-Chiro Inosito...</td>\n",
       "    </tr>\n",
       "    <tr>\n",
       "      <th>11822</th>\n",
       "      <td>zestasil 100 tablet</td>\n",
       "      <td>Sildenafil (100mg) Treatment of Erectile dysfu...</td>\n",
       "    </tr>\n",
       "    <tr>\n",
       "      <th>11823</th>\n",
       "      <td>zedruff shampoo</td>\n",
       "      <td>Ketoconazole (2% w/v) + Zinc pyrithione (1% w/...</td>\n",
       "    </tr>\n",
       "  </tbody>\n",
       "</table>\n",
       "<p>11498 rows × 2 columns</p>\n",
       "</div>"
      ],
      "text/plain": [
       "                   Medicine Name  \\\n",
       "0        avastin 400mg injection   \n",
       "1       augmentin 625 duo tablet   \n",
       "2            azithral 500 tablet   \n",
       "3               ascoril ls syrup   \n",
       "4              aciloc 150 tablet   \n",
       "...                          ...   \n",
       "11819         zenegra lido spray   \n",
       "11820  zilarta-ct 40/6.25 tablet   \n",
       "11821              zipcoz tablet   \n",
       "11822        zestasil 100 tablet   \n",
       "11823            zedruff shampoo   \n",
       "\n",
       "                                                    tags  \n",
       "0      Bevacizumab (400mg) Cancer of colon and rectum...  \n",
       "1      Amoxycillin (500mg) + Clavulanic Acid (125mg) ...  \n",
       "2      Azithromycin (500mg) Treatment of Bacterial in...  \n",
       "3      Ambroxol (30mg/5ml) + Levosalbutamol (1mg/5ml)...  \n",
       "4      Ranitidine (150mg) Treatment of Gastroesophage...  \n",
       "...                                                  ...  \n",
       "11819  Lidocaine (9.5% w/w) Local anesthesia (Numb ti...  \n",
       "11820  Azilsartan medoxomil (40mg) + Chlorthalidone (...  \n",
       "11821  Chromium Picolinate (100mcg) + D-Chiro Inosito...  \n",
       "11822  Sildenafil (100mg) Treatment of Erectile dysfu...  \n",
       "11823  Ketoconazole (2% w/v) + Zinc pyrithione (1% w/...  \n",
       "\n",
       "[11498 rows x 2 columns]"
      ]
     },
     "execution_count": 24,
     "metadata": {},
     "output_type": "execute_result"
    }
   ],
   "source": [
    "new_df"
   ]
  },
  {
   "cell_type": "code",
   "execution_count": 25,
   "metadata": {},
   "outputs": [
    {
     "name": "stderr",
     "output_type": "stream",
     "text": [
      "C:\\Users\\Jyothi\\AppData\\Local\\Temp\\ipykernel_14768\\3214958533.py:1: SettingWithCopyWarning: \n",
      "A value is trying to be set on a copy of a slice from a DataFrame.\n",
      "Try using .loc[row_indexer,col_indexer] = value instead\n",
      "\n",
      "See the caveats in the documentation: https://pandas.pydata.org/pandas-docs/stable/user_guide/indexing.html#returning-a-view-versus-a-copy\n",
      "  new_df['tags'] = new_df['tags'].apply(lambda x:x.lower())\n"
     ]
    }
   ],
   "source": [
    "new_df['tags'] = new_df['tags'].apply(lambda x:x.lower())"
   ]
  },
  {
   "cell_type": "code",
   "execution_count": 26,
   "metadata": {},
   "outputs": [
    {
     "data": {
      "text/html": [
       "<div>\n",
       "<style scoped>\n",
       "    .dataframe tbody tr th:only-of-type {\n",
       "        vertical-align: middle;\n",
       "    }\n",
       "\n",
       "    .dataframe tbody tr th {\n",
       "        vertical-align: top;\n",
       "    }\n",
       "\n",
       "    .dataframe thead th {\n",
       "        text-align: right;\n",
       "    }\n",
       "</style>\n",
       "<table border=\"1\" class=\"dataframe\">\n",
       "  <thead>\n",
       "    <tr style=\"text-align: right;\">\n",
       "      <th></th>\n",
       "      <th>Medicine Name</th>\n",
       "      <th>tags</th>\n",
       "    </tr>\n",
       "  </thead>\n",
       "  <tbody>\n",
       "    <tr>\n",
       "      <th>0</th>\n",
       "      <td>avastin 400mg injection</td>\n",
       "      <td>bevacizumab (400mg) cancer of colon and rectum...</td>\n",
       "    </tr>\n",
       "    <tr>\n",
       "      <th>1</th>\n",
       "      <td>augmentin 625 duo tablet</td>\n",
       "      <td>amoxycillin (500mg) + clavulanic acid (125mg) ...</td>\n",
       "    </tr>\n",
       "    <tr>\n",
       "      <th>2</th>\n",
       "      <td>azithral 500 tablet</td>\n",
       "      <td>azithromycin (500mg) treatment of bacterial in...</td>\n",
       "    </tr>\n",
       "    <tr>\n",
       "      <th>3</th>\n",
       "      <td>ascoril ls syrup</td>\n",
       "      <td>ambroxol (30mg/5ml) + levosalbutamol (1mg/5ml)...</td>\n",
       "    </tr>\n",
       "    <tr>\n",
       "      <th>4</th>\n",
       "      <td>aciloc 150 tablet</td>\n",
       "      <td>ranitidine (150mg) treatment of gastroesophage...</td>\n",
       "    </tr>\n",
       "    <tr>\n",
       "      <th>...</th>\n",
       "      <td>...</td>\n",
       "      <td>...</td>\n",
       "    </tr>\n",
       "    <tr>\n",
       "      <th>11819</th>\n",
       "      <td>zenegra lido spray</td>\n",
       "      <td>lidocaine (9.5% w/w) local anesthesia (numb ti...</td>\n",
       "    </tr>\n",
       "    <tr>\n",
       "      <th>11820</th>\n",
       "      <td>zilarta-ct 40/6.25 tablet</td>\n",
       "      <td>azilsartan medoxomil (40mg) + chlorthalidone (...</td>\n",
       "    </tr>\n",
       "    <tr>\n",
       "      <th>11821</th>\n",
       "      <td>zipcoz tablet</td>\n",
       "      <td>chromium picolinate (100mcg) + d-chiro inosito...</td>\n",
       "    </tr>\n",
       "    <tr>\n",
       "      <th>11822</th>\n",
       "      <td>zestasil 100 tablet</td>\n",
       "      <td>sildenafil (100mg) treatment of erectile dysfu...</td>\n",
       "    </tr>\n",
       "    <tr>\n",
       "      <th>11823</th>\n",
       "      <td>zedruff shampoo</td>\n",
       "      <td>ketoconazole (2% w/v) + zinc pyrithione (1% w/...</td>\n",
       "    </tr>\n",
       "  </tbody>\n",
       "</table>\n",
       "<p>11498 rows × 2 columns</p>\n",
       "</div>"
      ],
      "text/plain": [
       "                   Medicine Name  \\\n",
       "0        avastin 400mg injection   \n",
       "1       augmentin 625 duo tablet   \n",
       "2            azithral 500 tablet   \n",
       "3               ascoril ls syrup   \n",
       "4              aciloc 150 tablet   \n",
       "...                          ...   \n",
       "11819         zenegra lido spray   \n",
       "11820  zilarta-ct 40/6.25 tablet   \n",
       "11821              zipcoz tablet   \n",
       "11822        zestasil 100 tablet   \n",
       "11823            zedruff shampoo   \n",
       "\n",
       "                                                    tags  \n",
       "0      bevacizumab (400mg) cancer of colon and rectum...  \n",
       "1      amoxycillin (500mg) + clavulanic acid (125mg) ...  \n",
       "2      azithromycin (500mg) treatment of bacterial in...  \n",
       "3      ambroxol (30mg/5ml) + levosalbutamol (1mg/5ml)...  \n",
       "4      ranitidine (150mg) treatment of gastroesophage...  \n",
       "...                                                  ...  \n",
       "11819  lidocaine (9.5% w/w) local anesthesia (numb ti...  \n",
       "11820  azilsartan medoxomil (40mg) + chlorthalidone (...  \n",
       "11821  chromium picolinate (100mcg) + d-chiro inosito...  \n",
       "11822  sildenafil (100mg) treatment of erectile dysfu...  \n",
       "11823  ketoconazole (2% w/v) + zinc pyrithione (1% w/...  \n",
       "\n",
       "[11498 rows x 2 columns]"
      ]
     },
     "execution_count": 26,
     "metadata": {},
     "output_type": "execute_result"
    }
   ],
   "source": [
    "new_df"
   ]
  },
  {
   "cell_type": "code",
   "execution_count": 27,
   "metadata": {},
   "outputs": [],
   "source": [
    "import nltk\n",
    "from nltk.stem.porter import PorterStemmer\n",
    "ps = PorterStemmer()\n",
    "from sklearn.feature_extraction.text import CountVectorizer\n",
    "cv = CountVectorizer(stop_words='english',max_features=5000)\n",
    "def stem(text):\n",
    "    y = []\n",
    "\n",
    "    for i in text.split():\n",
    "        y.append(ps.stem(i))\n",
    "\n",
    "    return \" \".join(y)\n",
    "    new_df['tags'] = new_df['tags'].apply(stem)\n",
    "    cv.fit_transform(new_df['tags']).toarray().shape\n",
    "    vectors = cv.fit_transform(new_df['tags']).toarray()\n",
    "    cv.get_feature_names_out()"
   ]
  },
  {
   "cell_type": "code",
   "execution_count": 28,
   "metadata": {},
   "outputs": [],
   "source": [
    "from sklearn.metrics.pairwise import cosine_similarity"
   ]
  },
  {
   "cell_type": "code",
   "execution_count": 29,
   "metadata": {},
   "outputs": [
    {
     "name": "stdout",
     "output_type": "stream",
     "text": [
      "[[1.         0.         0.         ... 0.03721615 0.         0.        ]\n",
      " [0.         1.         0.63245553 ... 0.         0.15811388 0.15811388]\n",
      " [0.         0.63245553 1.         ... 0.         0.2        0.2       ]\n",
      " ...\n",
      " [0.03721615 0.         0.         ... 1.         0.         0.        ]\n",
      " [0.         0.15811388 0.2        ... 0.         1.         0.2       ]\n",
      " [0.         0.15811388 0.2        ... 0.         0.2        1.        ]]\n"
     ]
    }
   ],
   "source": [
    "from sklearn.metrics.pairwise import cosine_similarity\n",
    "from sklearn.feature_extraction.text import CountVectorizer\n",
    "\n",
    "# Assuming 'new_df' is your DataFrame with a 'tags' column\n",
    "cv = CountVectorizer(stop_words='english', max_features=5000)\n",
    "\n",
    "# Fit and transform the 'tags' column to create a numerical representation\n",
    "vectors = cv.fit_transform(new_df['tags']).toarray()\n",
    "\n",
    "# Calculate the cosine similarity between the vectors\n",
    "similarity_matrix = cosine_similarity(vectors)\n",
    "\n",
    "print(similarity_matrix)"
   ]
  },
  {
   "cell_type": "code",
   "execution_count": 30,
   "metadata": {},
   "outputs": [
    {
     "data": {
      "text/plain": [
       "array([0.        , 1.        , 0.63245553, ..., 0.        , 0.15811388,\n",
       "       0.15811388])"
      ]
     },
     "execution_count": 30,
     "metadata": {},
     "output_type": "execute_result"
    }
   ],
   "source": [
    "similarity=cosine_similarity(vectors)\n",
    "similarity[1]"
   ]
  },
  {
   "cell_type": "code",
   "execution_count": 31,
   "metadata": {},
   "outputs": [],
   "source": [
    "def recommend(medicine):\n",
    "    medicine_index = new_df[new_df['Medicine Name'] == medicine].index[0]\n",
    "    distances = similarity[medicine_index]\n",
    "    medicines_list = sorted(list(enumerate(distances)),reverse=True,key=lambda x:x[1])[1:6]\n",
    "\n",
    "    for i in medicines_list:\n",
    "        print(new_df.iloc[i[0]]['Medicine Name'])"
   ]
  },
  {
   "cell_type": "code",
   "execution_count": 32,
   "metadata": {},
   "outputs": [
    {
     "name": "stdout",
     "output_type": "stream",
     "text": [
      "ambrodil-lx syrup\n",
      "asthakind-ls expectorant cola sugar free\n",
      "asthalin ax syrup\n",
      "ambrolite levo syrup\n",
      "bro-zedex ls kid expectorant raspberry\n"
     ]
    }
   ],
   "source": [
    "recommend(\"ascoril ls syrup\")"
   ]
  },
  {
   "cell_type": "code",
   "execution_count": 33,
   "metadata": {},
   "outputs": [],
   "source": [
    "from IPython.display import display, Image\n",
    "\n",
    "def recommend(medicine):\n",
    "    medicine_index = new_df[new_df['Medicine Name'] == medicine].index[0]\n",
    "    distances = similarity[medicine_index]\n",
    "    medicines_list = sorted(list(enumerate(distances)), reverse=True, key=lambda x: x[1])[1:6]\n",
    "\n",
    "    for i in medicines_list:\n",
    "        med_name = new_df.iloc[i[0]]['Medicine Name']\n",
    "        \n",
    "        # Fetch details from df\n",
    "        details = df[df['Medicine Name'] == med_name]\n",
    "        \n",
    "        if not details.empty:\n",
    "            side_effects = details['Side_effects'].values[0]\n",
    "            image_url = details['Image URL'].values[0]\n",
    "            manufacture_details = details['Manufacturer'].values[0]\n",
    "\n",
    "            print(f\"Medicine: {med_name}\")\n",
    "            print(f\"Side Effects: {side_effects}\")\n",
    "            print(f\"Manufacturers: {manufacture_details}\")\n",
    "\n",
    "            # Display the image instead of printing the URL\n",
    "            if isinstance(image_url, str) and image_url.strip():\n",
    "                display(Image(url=image_url))  # Use Image(filename=image_url) if it's a local path\n",
    "            else:\n",
    "                print(\"No image available.\")\n",
    "                \n",
    "            print(\"-\" * 50)\n"
   ]
  },
  {
   "cell_type": "code",
   "execution_count": 34,
   "metadata": {},
   "outputs": [
    {
     "name": "stdout",
     "output_type": "stream",
     "text": [
      "Medicine: ambrodil-lx syrup\n",
      "Side Effects: Nausea Vomiting Diarrhea Upset stomach Stomach pain Allergic reaction Dizziness Headache Rash Hives Tremors Palpitations Muscle cramp Increased heart rate\n",
      "Manufacturers: Aristo Pharmaceuticals Pvt Ltd\n"
     ]
    },
    {
     "data": {
      "text/html": [
       "<img src=\"https://onemg.gumlet.io/l_watermark_346,w_480,h_480/a_ignore,w_480,h_480,c_fit,q_auto,f_auto/cropped/vvkfwgws2p2al9jwdidw.jpg\"/>"
      ],
      "text/plain": [
       "<IPython.core.display.Image object>"
      ]
     },
     "metadata": {},
     "output_type": "display_data"
    },
    {
     "name": "stdout",
     "output_type": "stream",
     "text": [
      "--------------------------------------------------\n",
      "Medicine: asthakind-ls expectorant cola sugar free\n",
      "Side Effects: Nausea Vomiting Diarrhea Upset stomach Stomach pain Allergic reaction Dizziness Headache Rash Hives Tremors Palpitations Muscle cramp Increased heart rate\n",
      "Manufacturers: Mankind Pharma Ltd\n"
     ]
    },
    {
     "data": {
      "text/html": [
       "<img src=\"https://onemg.gumlet.io/l_watermark_346,w_480,h_480/a_ignore,w_480,h_480,c_fit,q_auto,f_auto/hifiqtanuufm47lmqehp.jpg\"/>"
      ],
      "text/plain": [
       "<IPython.core.display.Image object>"
      ]
     },
     "metadata": {},
     "output_type": "display_data"
    },
    {
     "name": "stdout",
     "output_type": "stream",
     "text": [
      "--------------------------------------------------\n",
      "Medicine: asthalin ax syrup\n",
      "Side Effects: Nausea Vomiting Diarrhea Upset stomach Stomach pain Allergic reaction Dizziness Headache Rash Hives Tremors Palpitations Muscle cramp Increased heart rate\n",
      "Manufacturers: Cipla Ltd\n"
     ]
    },
    {
     "data": {
      "text/html": [
       "<img src=\"https://onemg.gumlet.io/l_watermark_346,w_480,h_480/a_ignore,w_480,h_480,c_fit,q_auto,f_auto/cc6dda2c57324cc18311fe92bb6dfd94.jpg\"/>"
      ],
      "text/plain": [
       "<IPython.core.display.Image object>"
      ]
     },
     "metadata": {},
     "output_type": "display_data"
    },
    {
     "name": "stdout",
     "output_type": "stream",
     "text": [
      "--------------------------------------------------\n",
      "Medicine: ambrolite levo syrup\n",
      "Side Effects: Nausea Vomiting Diarrhea Upset stomach Stomach pain Allergic reaction Dizziness Headache Rash Hives Tremors Palpitations Muscle cramp Increased heart rate\n",
      "Manufacturers: Tablets India Limited\n"
     ]
    },
    {
     "data": {
      "text/html": [
       "<img src=\"https://onemg.gumlet.io/l_watermark_346,w_480,h_480/a_ignore,w_480,h_480,c_fit,q_auto,f_auto/1380d32eb52d4b7baa2a6811d85fb9d7.jpg\"/>"
      ],
      "text/plain": [
       "<IPython.core.display.Image object>"
      ]
     },
     "metadata": {},
     "output_type": "display_data"
    },
    {
     "name": "stdout",
     "output_type": "stream",
     "text": [
      "--------------------------------------------------\n",
      "Medicine: bro-zedex ls kid expectorant raspberry\n",
      "Side Effects: Nausea Vomiting Diarrhea Upset stomach Stomach pain Allergic reaction Dizziness Headache Rash Hives Tremors Palpitations Muscle cramp Increased heart rate\n",
      "Manufacturers: Dr Reddy's Laboratories Ltd\n"
     ]
    },
    {
     "data": {
      "text/html": [
       "<img src=\"https://onemg.gumlet.io/l_watermark_346,w_480,h_480/a_ignore,w_480,h_480,c_fit,q_auto,f_auto/cropped/vrsorvgtguhjwqqtzaw5.jpg\"/>"
      ],
      "text/plain": [
       "<IPython.core.display.Image object>"
      ]
     },
     "metadata": {},
     "output_type": "display_data"
    },
    {
     "name": "stdout",
     "output_type": "stream",
     "text": [
      "--------------------------------------------------\n"
     ]
    }
   ],
   "source": [
    "recommend(\"ascoril ls syrup\")"
   ]
  },
  {
   "cell_type": "code",
   "execution_count": 35,
   "metadata": {},
   "outputs": [
    {
     "name": "stdout",
     "output_type": "stream",
     "text": [
      "Alternative Suggestions for  benadryl syrup are: \n",
      "--------------------------------------------------\n",
      "Medicine: sii td-vac vaccine\n",
      "Side Effects: Fever Injection site reactions pain swelling redness Chills Joint inflammation\n",
      "Manufacturers: Serum Institute Of India Ltd\n"
     ]
    },
    {
     "data": {
      "text/html": [
       "<img src=\"https://onemg.gumlet.io/l_watermark_346,w_480,h_480/a_ignore,w_480,h_480,c_fit,q_auto,f_auto/nebkzkoucwoic0bycscs.jpg\"/>"
      ],
      "text/plain": [
       "<IPython.core.display.Image object>"
      ]
     },
     "metadata": {},
     "output_type": "display_data"
    },
    {
     "name": "stdout",
     "output_type": "stream",
     "text": [
      "--------------------------------------------------\n",
      "Medicine: bett vaccine (each 0.5ml)\n",
      "Side Effects: Injection site reactions pain swelling redness Loss of appetite Fever\n",
      "Manufacturers: Biological E Ltd\n"
     ]
    },
    {
     "data": {
      "text/html": [
       "<img src=\"https://onemg.gumlet.io/l_watermark_346,w_480,h_480/a_ignore,w_480,h_480,c_fit,q_auto,f_auto/fj8klrsmjieixjfi5hoz.jpg\"/>"
      ],
      "text/plain": [
       "<IPython.core.display.Image object>"
      ]
     },
     "metadata": {},
     "output_type": "display_data"
    },
    {
     "name": "stdout",
     "output_type": "stream",
     "text": [
      "--------------------------------------------------\n",
      "Medicine: bett vaccine\n",
      "Side Effects: Injection site reactions pain swelling redness Loss of appetite Fever\n",
      "Manufacturers: Biological E Ltd\n"
     ]
    },
    {
     "data": {
      "text/html": [
       "<img src=\"https://onemg.gumlet.io/l_watermark_346,w_480,h_480/a_ignore,w_480,h_480,c_fit,q_auto,f_auto/f28e00dc350a453fa3a213781597b3c0.jpg\"/>"
      ],
      "text/plain": [
       "<IPython.core.display.Image object>"
      ]
     },
     "metadata": {},
     "output_type": "display_data"
    },
    {
     "name": "stdout",
     "output_type": "stream",
     "text": [
      "--------------------------------------------------\n",
      "Medicine: tetanus vaccine adsorbed 0.5ml\n",
      "Side Effects: Injection site reactions pain swelling redness Loss of appetite Fever\n",
      "Manufacturers: Serum Institute Of India Ltd\n"
     ]
    },
    {
     "data": {
      "text/html": [
       "<img src=\"https://onemg.gumlet.io/l_watermark_346,w_480,h_480/a_ignore,w_480,h_480,c_fit,q_auto,f_auto/e4mfyi8mrr93hv0syoxu.jpg\"/>"
      ],
      "text/plain": [
       "<IPython.core.display.Image object>"
      ]
     },
     "metadata": {},
     "output_type": "display_data"
    },
    {
     "name": "stdout",
     "output_type": "stream",
     "text": [
      "--------------------------------------------------\n",
      "Medicine: tetanus 40iu vaccine\n",
      "Side Effects: Injection site reactions pain swelling redness Loss of appetite Fever\n",
      "Manufacturers: Serum Institute Of India Ltd\n"
     ]
    },
    {
     "data": {
      "text/html": [
       "<img src=\"https://onemg.gumlet.io/l_watermark_346,w_480,h_480/a_ignore,w_480,h_480,c_fit,q_auto,f_auto/7e4f01058f564688ad0a93664546cd30.jpg\"/>"
      ],
      "text/plain": [
       "<IPython.core.display.Image object>"
      ]
     },
     "metadata": {},
     "output_type": "display_data"
    },
    {
     "name": "stdout",
     "output_type": "stream",
     "text": [
      "--------------------------------------------------\n"
     ]
    }
   ],
   "source": [
    "medicine = input(\"Enter the name of the medication: \")\n",
    "medication = medicine.lower()\n",
    "print(\"Alternative Suggestions for \", medication, \"are: \")\n",
    "print(\"-\" * 50)\n",
    "recommend(medication)"
   ]
  },
  {
   "cell_type": "code",
   "execution_count": null,
   "metadata": {},
   "outputs": [],
   "source": []
  }
 ],
 "metadata": {
  "kernelspec": {
   "display_name": "base",
   "language": "python",
   "name": "python3"
  },
  "language_info": {
   "codemirror_mode": {
    "name": "ipython",
    "version": 3
   },
   "file_extension": ".py",
   "mimetype": "text/x-python",
   "name": "python",
   "nbconvert_exporter": "python",
   "pygments_lexer": "ipython3",
   "version": "3.11.3"
  }
 },
 "nbformat": 4,
 "nbformat_minor": 2
}
